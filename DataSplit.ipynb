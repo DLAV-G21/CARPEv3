{
 "cells": [
  {
   "cell_type": "code",
   "execution_count": 1,
   "id": "f7666aac",
   "metadata": {},
   "outputs": [],
   "source": [
    "import io\n",
    "from os import listdir\n",
    "from os.path import isfile, isdir, join\n",
    "path = r\"carpe_data\"\n",
    "if(isdir(path)):\n",
    "    directorys = [d for d in listdir(path) if isdir(join(path, d))]\n",
    "    files = [f for f in listdir(path) if isfile(join(path, f))]\n",
    "else:\n",
    "    raise None"
   ]
  },
  {
   "cell_type": "code",
   "execution_count": 3,
   "id": "d7aa1514",
   "metadata": {},
   "outputs": [],
   "source": [
    "import json\n",
    "import os\n",
    "import shutil\n",
    "\n",
    "train_prefix = [\"180116\",\"171206\",\"180117\"]\n",
    "test_prefix = [\"180118\",\"180310\"]\n",
    "val_prefix = [\"180114\"]\n",
    "path_ = join(path, 'images')\n",
    "files = [f for f in listdir(path_) if isfile(join(path_, f))]"
   ]
  },
  {
   "cell_type": "code",
   "execution_count": null,
   "id": "41fd104a",
   "metadata": {},
   "outputs": [],
   "source": [
    "def f(prefix, files, d):\n",
    "    if not isdir(join(path, d)):\n",
    "        os.makedirs(join(path, d))\n",
    "    if not isdir(join(path, f'{d}_segm_npz')):\n",
    "        os.makedirs(join(path, f'{d}_segm_npz'))\n",
    "    for file in files:\n",
    "        if(file[:6] in prefix):\n",
    "            shutil.copy(join(path, 'images', file) , join(path, d, file))\n",
    "            shutil.copy(join(path, 'segm_npz', f'{file[:-3]}npz') , join(path, f'{d}_segm_npz', f'{file[:-3]}npz'))\n",
    "    \n",
    "f(train_prefix, files, 'train')\n",
    "f(test_prefix, files, 'test')\n",
    "f(val_prefix, files, 'val')"
   ]
  },
  {
   "cell_type": "code",
   "execution_count": 4,
   "id": "983d1428",
   "metadata": {},
   "outputs": [],
   "source": [
    "with open(join(path,'annotations','apollo_keypoints_24_train.json')) as setup_file:\n",
    "        keypoints_24_train = json.load(setup_file)\n",
    "with open(join(path,'annotations','apollo_keypoints_24_val.json')) as setup_file:\n",
    "        keypoints_24_val = json.load(setup_file)\n",
    "with open(join(path,'annotations','apollo_keypoints_66_train.json')) as setup_file:\n",
    "        keypoints_66_train = json.load(setup_file)\n",
    "with open(join(path,'annotations','apollo_keypoints_66_val.json')) as setup_file:\n",
    "        keypoints_66_val = json.load(setup_file)"
   ]
  },
  {
   "cell_type": "code",
   "execution_count": 11,
   "id": "907025c9",
   "metadata": {},
   "outputs": [
    {
     "data": {
      "text/plain": [
       "{'coco_url': 'unknown',\n",
       " 'file_name': '171206_034630104_Camera_5.jpg',\n",
       " 'id': 34630104,\n",
       " 'license': 1,\n",
       " 'date_captured': 'unknown',\n",
       " 'width': 3384,\n",
       " 'height': 2710}"
      ]
     },
     "execution_count": 11,
     "metadata": {},
     "output_type": "execute_result"
    }
   ],
   "source": [
    "\"\"\"'images', 'annotations'\"\"\"\n",
    "keypoints_24_train['images'][0]"
   ]
  },
  {
   "cell_type": "code",
   "execution_count": null,
   "id": "d360ea6c",
   "metadata": {},
   "outputs": [],
   "source": [
    "from utils.openpifpaf_helper import CAR_SKELETON_24, CAR_SKELETON_66 \n",
    "\n",
    "def add_skeleton(img, skeleton):\n",
    "    num_links = 0\n",
    "    links = [0] * len(skeleton) * 5\n",
    "    for i, (u,v) in enumerate(skeleton):\n",
    "        xu,yu,zu = img['keypoints'][(u-1)*3:(u-1)*3+3]\n",
    "        xv,yv,zv = img['keypoints'][(v-1)*3:(v-1)*3+3]\n",
    "        if(zu > 0 and zv > 0):\n",
    "            num_links += 1\n",
    "            links[i*5:i*5+5] = (xu,yu,xv,yv,zv)\n",
    "        \n",
    "    img['num_links'] = num_links\n",
    "    img['links'] = links"
   ]
  },
  {
   "cell_type": "code",
   "execution_count": null,
   "id": "1dc085b5",
   "metadata": {},
   "outputs": [],
   "source": [
    "train_24 = {'info' : keypoints_24_train['info'], 'categories' : keypoints_24_train['categories']}\n",
    "test_24  = {'info' : keypoints_24_train['info'], 'categories' : keypoints_24_train['categories']}\n",
    "val_24   = {'info' : keypoints_24_train['info'], 'categories' : keypoints_24_train['categories']}\n",
    "train_66 = {'info' : keypoints_66_train['info'], 'categories' : keypoints_66_train['categories']}\n",
    "test_66  = {'info' : keypoints_66_train['info'], 'categories' : keypoints_66_train['categories']}\n",
    "val_66   = {'info' : keypoints_66_train['info'], 'categories' : keypoints_66_train['categories']}\n",
    "\n",
    "def f(prefix, j_24, j_66,  d):\n",
    "    j_24['images'] = []\n",
    "    j_66['images'] = []\n",
    "    image_id_24 = []\n",
    "    image_id_66  = []\n",
    "    j_24['annotations'] = []\n",
    "    j_66['annotations'] = []\n",
    "    for img in keypoints_24_train['images']:\n",
    "        if(str(img['file_name'])[:6] in prefix):\n",
    "            j_24['images'].append(img)\n",
    "            image_id_24.append(img['id'])\n",
    "            \n",
    "    for img in keypoints_24_val  ['images']:\n",
    "        if(str(img['file_name'])[:6] in prefix):\n",
    "            j_24['images'].append(img)\n",
    "            image_id_24.append(img['id'])\n",
    "            \n",
    "    for img in keypoints_66_train['images']:\n",
    "        if(str(img['file_name'])[:6] in prefix):\n",
    "            j_66['images'].append(img)\n",
    "            image_id_66.append(img['id'])\n",
    "            \n",
    "    for img in keypoints_66_val  ['images']:\n",
    "        if(str(img['file_name'])[:6] in prefix):\n",
    "            j_66['images'].append(img)\n",
    "            image_id_66.append(img['id'])\n",
    "    \n",
    "    for img in keypoints_24_train['annotations']:\n",
    "        if (img['iscrowd'] <= 0) and (img['image_id'] in image_id_24):\n",
    "            add_skeleton(img, CAR_SKELETON_24)\n",
    "            j_24['annotations'].append(img)\n",
    "            \n",
    "    for img in keypoints_24_val  ['annotations']:\n",
    "        if (img['iscrowd'] <= 0) and (img['image_id'] in image_id_24):\n",
    "            add_skeleton(img, CAR_SKELETON_24)\n",
    "            j_24['annotations'].append(img)\n",
    "            \n",
    "    for img in keypoints_66_train['annotations']:\n",
    "        if (img['iscrowd'] <= 0) and (img['image_id'] in image_id_66):\n",
    "            add_skeleton(img, CAR_SKELETON_66)\n",
    "            j_66['annotations'].append(img)\n",
    "            \n",
    "    for img in keypoints_66_val  ['annotations']:\n",
    "        if (img['iscrowd'] <= 0) and (img['image_id'] in image_id_66):\n",
    "            add_skeleton(img, CAR_SKELETON_66)\n",
    "            j_66['annotations'].append(img)\n",
    "            \n",
    "            \n",
    "    with open(os.path.join(path, r'annotations', f'keypoints_{d}_24.json'), \"w\") as outfile:\n",
    "        outfile.write(json.dumps(j_24))\n",
    "    with open(os.path.join(path, 'annotations', f'keypoints_{d}_66.json'), \"w\") as outfile:\n",
    "        outfile.write(json.dumps(j_66))\n",
    "    \n",
    "    \n",
    "f(train_prefix, train_24, train_66, 'train')\n",
    "f(test_prefix, test_24, test_66, 'test')\n",
    "f(val_prefix, val_24, val_66, 'val')"
   ]
  },
  {
   "cell_type": "code",
   "execution_count": null,
   "id": "e5f8be25",
   "metadata": {},
   "outputs": [],
   "source": []
  }
 ],
 "metadata": {
  "kernelspec": {
   "display_name": "Python 3 (ipykernel)",
   "language": "python",
   "name": "python3"
  },
  "language_info": {
   "codemirror_mode": {
    "name": "ipython",
    "version": 3
   },
   "file_extension": ".py",
   "mimetype": "text/x-python",
   "name": "python",
   "nbconvert_exporter": "python",
   "pygments_lexer": "ipython3",
   "version": "3.9.7"
  }
 },
 "nbformat": 4,
 "nbformat_minor": 5
}
