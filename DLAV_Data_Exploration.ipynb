{
  "nbformat": 4,
  "nbformat_minor": 0,
  "metadata": {
    "colab": {
      "provenance": [],
      "gpuType": "T4"
    },
    "kernelspec": {
      "name": "python3",
      "display_name": "Python 3"
    },
    "language_info": {
      "name": "python"
    },
    "gpuClass": "standard"
  },
  "cells": [
    {
      "cell_type": "code",
      "source": [
        "ROOT_PATH = \"\""
      ],
      "metadata": {
        "id": "OoRm66fPgNZB"
      },
      "execution_count": 2,
      "outputs": []
    },
    {
      "cell_type": "code",
      "source": [
        "import json \n",
        "import os\n",
        "import sys\n",
        "import numpy as np\n",
        "\n",
        "%load_ext autoreload\n",
        "%autoreload 2\n",
        "sys.path.append(ROOT_PATH)\n",
        "sys.path.append(os.path.join(ROOT_PATH,\"util\"))\n",
        "\n",
        "file = os.path.join(ROOT_PATH,\"carpe_data\",\"annotations\",\"apollo_keypoints_24_train.json\")\n",
        "if os.path.exists(file):\n",
        "  with open(file, \"r\") as f:\n",
        "    annot_dict = json.load(f)\n",
        "else:\n",
        "  raise ValueError(\"The given config file doesn't exist\")"
      ],
      "metadata": {
        "id": "JJGn4a90ESef"
      },
      "execution_count": 3,
      "outputs": []
    },
    {
      "cell_type": "code",
      "source": [
        "import visualizations as viz\n",
        "from openpifpaf_helper import *"
      ],
      "metadata": {
        "id": "AD6FjuYx1CJ2"
      },
      "execution_count": null,
      "outputs": []
    },
    {
      "cell_type": "code",
      "source": [
        "\n",
        "viz.plot_keypoints_and_bounding_box(34630104,annot_dict,ROOT_PATH)"
      ],
      "metadata": {
        "id": "mxNJz9rAYxiP"
      },
      "execution_count": null,
      "outputs": []
    },
    {
      "cell_type": "code",
      "source": [
        "from eda import *\n",
        "car_distrib = get_nb_car_distribution(annot_dict)\n",
        "max_nb = max(car_distrib)\n",
        "viz.plot_distribution(car_distrib,f\"Distribution of the number of cars per image (max number of cars in one image is {max_nb})\",\"Nb car\")\n"
      ],
      "metadata": {
        "id": "KU44gOk25B_F"
      },
      "execution_count": null,
      "outputs": []
    },
    {
      "cell_type": "code",
      "source": [
        "\n",
        "viz.plot_distribution(get_keypoint_class_distrib(annot_dict),\"Distribution of count per keypoint id\",\"keypoint id\",bins=np.arange(25))\n"
      ],
      "metadata": {
        "id": "f8EGlDfZKkeK"
      },
      "execution_count": null,
      "outputs": []
    },
    {
      "cell_type": "code",
      "source": [
        "viz.plot_distribution(get_nb_keypoints_car_distribution(annot_dict),\"Distribution of the number of keypoints per car\",\"Nb keypoints\",logy=True,bins=np.arange(25))\n"
      ],
      "metadata": {
        "id": "-DMLUc8kNTAR"
      },
      "execution_count": null,
      "outputs": []
    },
    {
      "cell_type": "code",
      "source": [
        "viz.plot_distribution(get_area_distribution(annot_dict),\"Distribution of car areas\",\"Nb car\",logy=True)\n"
      ],
      "metadata": {
        "id": "elfTmEZGKnoy"
      },
      "execution_count": null,
      "outputs": []
    },
    {
      "cell_type": "code",
      "source": [
        "from processing import  generate_image_segmentation, generate_train_val_test_split\n",
        "DLAV_DATA = os.path.join(ROOT_PATH, \"dlav_data\")\n",
        "NP_IMG_PATH = os.path.join(DLAV_DATA, \"image_npz\")\n",
        "NP_SEGM_PATH = os.path.join(DLAV_DATA, \"segm_npz\")\n",
        "IMG_FOLDER = os.path.join(ROOT_PATH,\"3d-car-understanding-train\",\"train\",\"images\")\n",
        "generate_image_segmentation(IMG_FOLDER, NP_IMG_PATH, NP_SEGM_PATH,sample_demonstration=True)"
      ],
      "metadata": {
        "id": "HQu6GnZ7X1oo"
      },
      "execution_count": null,
      "outputs": []
    },
    {
      "cell_type": "code",
      "source": [
        "import io\n",
        "from os import listdir\n",
        "from collections import Counter\n",
        "from os.path import isfile, isdir, join\n",
        "path = os.path.join(DATA_PATH,\"images\")\n",
        "if(isdir(path)):\n",
        "  files = [f for f in listdir(path) if isfile(join(path, f))]\n",
        "  count= Counter([f.split(\"_\")[0] for f in files])\n",
        "  set_files = set([f.split(\"_\")[0] for f in files])\n",
        "set_files,count"
      ],
      "metadata": {
        "id": "VBAsV4BpEqPO"
      },
      "execution_count": null,
      "outputs": []
    },
    {
      "cell_type": "code",
      "source": [],
      "metadata": {
        "id": "f1mxzcTHNRoB"
      },
      "execution_count": null,
      "outputs": []
    }
  ]
}